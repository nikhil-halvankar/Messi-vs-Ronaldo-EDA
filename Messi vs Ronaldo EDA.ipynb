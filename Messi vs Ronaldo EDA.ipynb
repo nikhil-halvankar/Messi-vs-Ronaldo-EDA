{
 "cells": [
  {
   "cell_type": "code",
   "execution_count": 1,
   "id": "0880b53a",
   "metadata": {},
   "outputs": [],
   "source": [
    "import numpy as np\n",
    "import pandas as pd\n",
    "import seaborn as sns\n",
    "import matplotlib.pyplot as plt"
   ]
  },
  {
   "cell_type": "code",
   "execution_count": 2,
   "id": "38c78a5e",
   "metadata": {},
   "outputs": [],
   "source": [
    "data = pd.read_csv(\"MessiRonaldo.csv\")"
   ]
  },
  {
   "cell_type": "code",
   "execution_count": 3,
   "id": "d6f66c4a",
   "metadata": {},
   "outputs": [
    {
     "data": {
      "text/html": [
       "<div>\n",
       "<style scoped>\n",
       "    .dataframe tbody tr th:only-of-type {\n",
       "        vertical-align: middle;\n",
       "    }\n",
       "\n",
       "    .dataframe tbody tr th {\n",
       "        vertical-align: top;\n",
       "    }\n",
       "\n",
       "    .dataframe thead th {\n",
       "        text-align: right;\n",
       "    }\n",
       "</style>\n",
       "<table border=\"1\" class=\"dataframe\">\n",
       "  <thead>\n",
       "    <tr style=\"text-align: right;\">\n",
       "      <th></th>\n",
       "      <th>Season</th>\n",
       "      <th>Player</th>\n",
       "      <th>Liga_Goals</th>\n",
       "      <th>Liga_Asts</th>\n",
       "      <th>Liga_Aps</th>\n",
       "      <th>Liga_Mins</th>\n",
       "      <th>CL_Goals</th>\n",
       "      <th>CL_Asts</th>\n",
       "      <th>CL_Aps</th>\n",
       "      <th>CL_Mins</th>\n",
       "    </tr>\n",
       "  </thead>\n",
       "  <tbody>\n",
       "    <tr>\n",
       "      <th>0</th>\n",
       "      <td>2017-18</td>\n",
       "      <td>Messi</td>\n",
       "      <td>34</td>\n",
       "      <td>12</td>\n",
       "      <td>36</td>\n",
       "      <td>2996</td>\n",
       "      <td>6</td>\n",
       "      <td>2</td>\n",
       "      <td>10</td>\n",
       "      <td>783</td>\n",
       "    </tr>\n",
       "    <tr>\n",
       "      <th>1</th>\n",
       "      <td>2017-18</td>\n",
       "      <td>Ronaldo</td>\n",
       "      <td>26</td>\n",
       "      <td>5</td>\n",
       "      <td>27</td>\n",
       "      <td>2297</td>\n",
       "      <td>15</td>\n",
       "      <td>3</td>\n",
       "      <td>13</td>\n",
       "      <td>1170</td>\n",
       "    </tr>\n",
       "    <tr>\n",
       "      <th>2</th>\n",
       "      <td>2016-17</td>\n",
       "      <td>Messi</td>\n",
       "      <td>37</td>\n",
       "      <td>9</td>\n",
       "      <td>34</td>\n",
       "      <td>2832</td>\n",
       "      <td>11</td>\n",
       "      <td>2</td>\n",
       "      <td>9</td>\n",
       "      <td>810</td>\n",
       "    </tr>\n",
       "    <tr>\n",
       "      <th>3</th>\n",
       "      <td>2016-17</td>\n",
       "      <td>Ronaldo</td>\n",
       "      <td>25</td>\n",
       "      <td>6</td>\n",
       "      <td>29</td>\n",
       "      <td>2544</td>\n",
       "      <td>12</td>\n",
       "      <td>5</td>\n",
       "      <td>13</td>\n",
       "      <td>1200</td>\n",
       "    </tr>\n",
       "    <tr>\n",
       "      <th>4</th>\n",
       "      <td>2015-16</td>\n",
       "      <td>Messi</td>\n",
       "      <td>26</td>\n",
       "      <td>16</td>\n",
       "      <td>33</td>\n",
       "      <td>2729</td>\n",
       "      <td>6</td>\n",
       "      <td>1</td>\n",
       "      <td>7</td>\n",
       "      <td>630</td>\n",
       "    </tr>\n",
       "  </tbody>\n",
       "</table>\n",
       "</div>"
      ],
      "text/plain": [
       "    Season   Player  Liga_Goals  Liga_Asts  Liga_Aps  Liga_Mins  CL_Goals  \\\n",
       "0  2017-18    Messi          34         12        36       2996         6   \n",
       "1  2017-18  Ronaldo          26          5        27       2297        15   \n",
       "2  2016-17    Messi          37          9        34       2832        11   \n",
       "3  2016-17  Ronaldo          25          6        29       2544        12   \n",
       "4  2015-16    Messi          26         16        33       2729         6   \n",
       "\n",
       "   CL_Asts  CL_Aps  CL_Mins  \n",
       "0        2      10      783  \n",
       "1        3      13     1170  \n",
       "2        2       9      810  \n",
       "3        5      13     1200  \n",
       "4        1       7      630  "
      ]
     },
     "execution_count": 3,
     "metadata": {},
     "output_type": "execute_result"
    }
   ],
   "source": [
    "data.head()"
   ]
  },
  {
   "cell_type": "code",
   "execution_count": 4,
   "id": "a11e940d",
   "metadata": {},
   "outputs": [
    {
     "data": {
      "text/html": [
       "<div>\n",
       "<style scoped>\n",
       "    .dataframe tbody tr th:only-of-type {\n",
       "        vertical-align: middle;\n",
       "    }\n",
       "\n",
       "    .dataframe tbody tr th {\n",
       "        vertical-align: top;\n",
       "    }\n",
       "\n",
       "    .dataframe thead th {\n",
       "        text-align: right;\n",
       "    }\n",
       "</style>\n",
       "<table border=\"1\" class=\"dataframe\">\n",
       "  <thead>\n",
       "    <tr style=\"text-align: right;\">\n",
       "      <th></th>\n",
       "      <th>Season</th>\n",
       "      <th>Player</th>\n",
       "      <th>Liga_Goals</th>\n",
       "      <th>Liga_Asts</th>\n",
       "      <th>Liga_Aps</th>\n",
       "      <th>Liga_Mins</th>\n",
       "      <th>CL_Goals</th>\n",
       "      <th>CL_Asts</th>\n",
       "      <th>CL_Aps</th>\n",
       "      <th>CL_Mins</th>\n",
       "    </tr>\n",
       "  </thead>\n",
       "  <tbody>\n",
       "    <tr>\n",
       "      <th>13</th>\n",
       "      <td>2011-12</td>\n",
       "      <td>Ronaldo</td>\n",
       "      <td>46</td>\n",
       "      <td>13</td>\n",
       "      <td>38</td>\n",
       "      <td>3353</td>\n",
       "      <td>10</td>\n",
       "      <td>4</td>\n",
       "      <td>10</td>\n",
       "      <td>930</td>\n",
       "    </tr>\n",
       "    <tr>\n",
       "      <th>14</th>\n",
       "      <td>2010-11</td>\n",
       "      <td>Messi</td>\n",
       "      <td>31</td>\n",
       "      <td>21</td>\n",
       "      <td>33</td>\n",
       "      <td>2862</td>\n",
       "      <td>12</td>\n",
       "      <td>4</td>\n",
       "      <td>13</td>\n",
       "      <td>1050</td>\n",
       "    </tr>\n",
       "    <tr>\n",
       "      <th>15</th>\n",
       "      <td>2010-11</td>\n",
       "      <td>Ronaldo</td>\n",
       "      <td>40</td>\n",
       "      <td>13</td>\n",
       "      <td>34</td>\n",
       "      <td>2914</td>\n",
       "      <td>6</td>\n",
       "      <td>4</td>\n",
       "      <td>12</td>\n",
       "      <td>1018</td>\n",
       "    </tr>\n",
       "    <tr>\n",
       "      <th>16</th>\n",
       "      <td>2009-10</td>\n",
       "      <td>Messi</td>\n",
       "      <td>34</td>\n",
       "      <td>13</td>\n",
       "      <td>35</td>\n",
       "      <td>2841</td>\n",
       "      <td>8</td>\n",
       "      <td>0</td>\n",
       "      <td>11</td>\n",
       "      <td>985</td>\n",
       "    </tr>\n",
       "    <tr>\n",
       "      <th>17</th>\n",
       "      <td>2009-10</td>\n",
       "      <td>Ronaldo</td>\n",
       "      <td>26</td>\n",
       "      <td>11</td>\n",
       "      <td>29</td>\n",
       "      <td>2462</td>\n",
       "      <td>7</td>\n",
       "      <td>2</td>\n",
       "      <td>6</td>\n",
       "      <td>450</td>\n",
       "    </tr>\n",
       "  </tbody>\n",
       "</table>\n",
       "</div>"
      ],
      "text/plain": [
       "     Season   Player  Liga_Goals  Liga_Asts  Liga_Aps  Liga_Mins  CL_Goals  \\\n",
       "13  2011-12  Ronaldo          46         13        38       3353        10   \n",
       "14  2010-11    Messi          31         21        33       2862        12   \n",
       "15  2010-11  Ronaldo          40         13        34       2914         6   \n",
       "16  2009-10    Messi          34         13        35       2841         8   \n",
       "17  2009-10  Ronaldo          26         11        29       2462         7   \n",
       "\n",
       "    CL_Asts  CL_Aps  CL_Mins  \n",
       "13        4      10      930  \n",
       "14        4      13     1050  \n",
       "15        4      12     1018  \n",
       "16        0      11      985  \n",
       "17        2       6      450  "
      ]
     },
     "execution_count": 4,
     "metadata": {},
     "output_type": "execute_result"
    }
   ],
   "source": [
    "data.tail()"
   ]
  },
  {
   "cell_type": "code",
   "execution_count": 5,
   "id": "484e07dd",
   "metadata": {},
   "outputs": [
    {
     "data": {
      "text/plain": [
       "(18, 10)"
      ]
     },
     "execution_count": 5,
     "metadata": {},
     "output_type": "execute_result"
    }
   ],
   "source": [
    "data.shape"
   ]
  },
  {
   "cell_type": "code",
   "execution_count": 6,
   "id": "022c438a",
   "metadata": {},
   "outputs": [
    {
     "name": "stdout",
     "output_type": "stream",
     "text": [
      "<class 'pandas.core.frame.DataFrame'>\n",
      "RangeIndex: 18 entries, 0 to 17\n",
      "Data columns (total 10 columns):\n",
      " #   Column      Non-Null Count  Dtype \n",
      "---  ------      --------------  ----- \n",
      " 0   Season      18 non-null     object\n",
      " 1   Player      18 non-null     object\n",
      " 2   Liga_Goals  18 non-null     int64 \n",
      " 3   Liga_Asts   18 non-null     int64 \n",
      " 4   Liga_Aps    18 non-null     int64 \n",
      " 5   Liga_Mins   18 non-null     int64 \n",
      " 6   CL_Goals    18 non-null     int64 \n",
      " 7   CL_Asts     18 non-null     int64 \n",
      " 8   CL_Aps      18 non-null     int64 \n",
      " 9   CL_Mins     18 non-null     int64 \n",
      "dtypes: int64(8), object(2)\n",
      "memory usage: 1.5+ KB\n"
     ]
    }
   ],
   "source": [
    "data.info()"
   ]
  },
  {
   "cell_type": "code",
   "execution_count": 7,
   "id": "8cb7fb2a",
   "metadata": {},
   "outputs": [
    {
     "data": {
      "text/html": [
       "<div>\n",
       "<style scoped>\n",
       "    .dataframe tbody tr th:only-of-type {\n",
       "        vertical-align: middle;\n",
       "    }\n",
       "\n",
       "    .dataframe tbody tr th {\n",
       "        vertical-align: top;\n",
       "    }\n",
       "\n",
       "    .dataframe thead th {\n",
       "        text-align: right;\n",
       "    }\n",
       "</style>\n",
       "<table border=\"1\" class=\"dataframe\">\n",
       "  <thead>\n",
       "    <tr style=\"text-align: right;\">\n",
       "      <th></th>\n",
       "      <th>Liga_Goals</th>\n",
       "      <th>Liga_Asts</th>\n",
       "      <th>Liga_Aps</th>\n",
       "      <th>Liga_Mins</th>\n",
       "      <th>CL_Goals</th>\n",
       "      <th>CL_Asts</th>\n",
       "      <th>CL_Aps</th>\n",
       "      <th>CL_Mins</th>\n",
       "    </tr>\n",
       "  </thead>\n",
       "  <tbody>\n",
       "    <tr>\n",
       "      <th>count</th>\n",
       "      <td>18.000000</td>\n",
       "      <td>18.000000</td>\n",
       "      <td>18.000000</td>\n",
       "      <td>18.000000</td>\n",
       "      <td>18.000000</td>\n",
       "      <td>18.000000</td>\n",
       "      <td>18.000000</td>\n",
       "      <td>18.000000</td>\n",
       "    </tr>\n",
       "    <tr>\n",
       "      <th>mean</th>\n",
       "      <td>35.555556</td>\n",
       "      <td>13.055556</td>\n",
       "      <td>33.388889</td>\n",
       "      <td>2840.833333</td>\n",
       "      <td>10.444444</td>\n",
       "      <td>3.388889</td>\n",
       "      <td>10.722222</td>\n",
       "      <td>936.777778</td>\n",
       "    </tr>\n",
       "    <tr>\n",
       "      <th>std</th>\n",
       "      <td>8.226372</td>\n",
       "      <td>4.491459</td>\n",
       "      <td>3.201817</td>\n",
       "      <td>321.289177</td>\n",
       "      <td>3.467873</td>\n",
       "      <td>2.226548</td>\n",
       "      <td>2.191039</td>\n",
       "      <td>208.341223</td>\n",
       "    </tr>\n",
       "    <tr>\n",
       "      <th>min</th>\n",
       "      <td>25.000000</td>\n",
       "      <td>5.000000</td>\n",
       "      <td>27.000000</td>\n",
       "      <td>2297.000000</td>\n",
       "      <td>6.000000</td>\n",
       "      <td>0.000000</td>\n",
       "      <td>6.000000</td>\n",
       "      <td>450.000000</td>\n",
       "    </tr>\n",
       "    <tr>\n",
       "      <th>25%</th>\n",
       "      <td>28.750000</td>\n",
       "      <td>11.000000</td>\n",
       "      <td>31.250000</td>\n",
       "      <td>2565.250000</td>\n",
       "      <td>8.000000</td>\n",
       "      <td>2.000000</td>\n",
       "      <td>10.000000</td>\n",
       "      <td>814.250000</td>\n",
       "    </tr>\n",
       "    <tr>\n",
       "      <th>50%</th>\n",
       "      <td>34.000000</td>\n",
       "      <td>12.500000</td>\n",
       "      <td>34.000000</td>\n",
       "      <td>2836.500000</td>\n",
       "      <td>10.000000</td>\n",
       "      <td>3.500000</td>\n",
       "      <td>11.000000</td>\n",
       "      <td>990.500000</td>\n",
       "    </tr>\n",
       "    <tr>\n",
       "      <th>75%</th>\n",
       "      <td>42.250000</td>\n",
       "      <td>15.500000</td>\n",
       "      <td>35.750000</td>\n",
       "      <td>3071.000000</td>\n",
       "      <td>12.000000</td>\n",
       "      <td>4.000000</td>\n",
       "      <td>12.000000</td>\n",
       "      <td>1076.000000</td>\n",
       "    </tr>\n",
       "    <tr>\n",
       "      <th>max</th>\n",
       "      <td>50.000000</td>\n",
       "      <td>21.000000</td>\n",
       "      <td>38.000000</td>\n",
       "      <td>3375.000000</td>\n",
       "      <td>17.000000</td>\n",
       "      <td>9.000000</td>\n",
       "      <td>13.000000</td>\n",
       "      <td>1200.000000</td>\n",
       "    </tr>\n",
       "  </tbody>\n",
       "</table>\n",
       "</div>"
      ],
      "text/plain": [
       "       Liga_Goals  Liga_Asts   Liga_Aps    Liga_Mins   CL_Goals    CL_Asts  \\\n",
       "count   18.000000  18.000000  18.000000    18.000000  18.000000  18.000000   \n",
       "mean    35.555556  13.055556  33.388889  2840.833333  10.444444   3.388889   \n",
       "std      8.226372   4.491459   3.201817   321.289177   3.467873   2.226548   \n",
       "min     25.000000   5.000000  27.000000  2297.000000   6.000000   0.000000   \n",
       "25%     28.750000  11.000000  31.250000  2565.250000   8.000000   2.000000   \n",
       "50%     34.000000  12.500000  34.000000  2836.500000  10.000000   3.500000   \n",
       "75%     42.250000  15.500000  35.750000  3071.000000  12.000000   4.000000   \n",
       "max     50.000000  21.000000  38.000000  3375.000000  17.000000   9.000000   \n",
       "\n",
       "          CL_Aps      CL_Mins  \n",
       "count  18.000000    18.000000  \n",
       "mean   10.722222   936.777778  \n",
       "std     2.191039   208.341223  \n",
       "min     6.000000   450.000000  \n",
       "25%    10.000000   814.250000  \n",
       "50%    11.000000   990.500000  \n",
       "75%    12.000000  1076.000000  \n",
       "max    13.000000  1200.000000  "
      ]
     },
     "execution_count": 7,
     "metadata": {},
     "output_type": "execute_result"
    }
   ],
   "source": [
    "data.describe()"
   ]
  },
  {
   "cell_type": "code",
   "execution_count": 8,
   "id": "ca524fae",
   "metadata": {},
   "outputs": [
    {
     "data": {
      "text/plain": [
       "Season         9\n",
       "Player         2\n",
       "Liga_Goals    12\n",
       "Liga_Asts     10\n",
       "Liga_Aps      11\n",
       "Liga_Mins     18\n",
       "CL_Goals      10\n",
       "CL_Asts        8\n",
       "CL_Aps         7\n",
       "CL_Mins       17\n",
       "dtype: int64"
      ]
     },
     "execution_count": 8,
     "metadata": {},
     "output_type": "execute_result"
    }
   ],
   "source": [
    "data.nunique()"
   ]
  },
  {
   "cell_type": "code",
   "execution_count": 9,
   "id": "d81d7e6a",
   "metadata": {},
   "outputs": [
    {
     "data": {
      "text/plain": [
       "array(['Messi', 'Ronaldo'], dtype=object)"
      ]
     },
     "execution_count": 9,
     "metadata": {},
     "output_type": "execute_result"
    }
   ],
   "source": [
    "data['Player'].unique()"
   ]
  },
  {
   "cell_type": "code",
   "execution_count": 10,
   "id": "5ed82545",
   "metadata": {},
   "outputs": [
    {
     "data": {
      "image/png": "[encoded data removed]",
      "text/plain": [
       "<Figure size 1080x432 with 1 Axes>"
      ]
     },
     "metadata": {
      "needs_background": "light"
     },
     "output_type": "display_data"
    }
   ],
   "source": [
    "plt.figure(figsize=(15,6))\n",
    "sns.lineplot(x='Season',y='Liga_Goals',data=data,hue='Player',marker='*',markersize=10)\n",
    "plt.show()"
   ]
  },
  {
   "cell_type": "code",
   "execution_count": 11,
   "id": "4a1d7967",
   "metadata": {},
   "outputs": [
    {
     "name": "stdout",
     "output_type": "stream",
     "text": [
      "Top goal scorer in Liga league from 2009-18 was Messi\n",
      "Top goal scorer in Cl league from 2009-18 was Ronaldo\n"
     ]
    }
   ],
   "source": [
    "a= data.sort_values(by = 'Liga_Goals',ascending=False)['Player'].iloc[0]\n",
    "print(\"Top goal scorer in Liga league from 2009-18 was\",a)\n",
    "b= data.sort_values(by = 'CL_Goals',ascending=False)['Player'].iloc[0]\n",
    "print(\"Top goal scorer in Cl league from 2009-18 was\",b)"
   ]
  },
  {
   "cell_type": "code",
   "execution_count": 12,
   "id": "876ac1a7",
   "metadata": {},
   "outputs": [
    {
     "name": "stdout",
     "output_type": "stream",
     "text": [
      "Most appearances in Liga league from 2009-18 was Messi\n",
      "Most appearances in Cl league from 2009-18 was Ronaldo\n"
     ]
    }
   ],
   "source": [
    "c= data.sort_values(by = 'Liga_Aps',ascending=False)['Player'].iloc[0]\n",
    "print(\"Most appearances in Liga league from 2009-18 was\",c)\n",
    "d= data.sort_values(by = 'CL_Aps',ascending=False)['Player'].iloc[0]\n",
    "print(\"Most appearances in Cl league from 2009-18 was\",d)"
   ]
  },
  {
   "cell_type": "code",
   "execution_count": 32,
   "id": "9266bed0",
   "metadata": {
    "scrolled": true
   },
   "outputs": [
    {
     "name": "stdout",
     "output_type": "stream",
     "text": [
      "Total Mins played by Messi in Liga league was 26032 Mins\n"
     ]
    }
   ],
   "source": [
    "m_mins = data[data['Player'] == 'Messi']['Liga_Mins'].sum()\n",
    "print(\"Total Mins played by Messi in Liga league was\",m_mins,'Mins')"
   ]
  },
  {
   "cell_type": "code",
   "execution_count": 34,
   "id": "45fd3f84",
   "metadata": {},
   "outputs": [
    {
     "name": "stdout",
     "output_type": "stream",
     "text": [
      "Total Mins played by Messi in CL league was 7850 Mins\n"
     ]
    }
   ],
   "source": [
    "m_mins = data[data['Player'] == 'Messi']['CL_Mins'].sum()\n",
    "print(\"Total Mins played by Messi in CL league was\",m_mins,'Mins')"
   ]
  },
  {
   "cell_type": "code",
   "execution_count": null,
   "id": "178c7c28",
   "metadata": {},
   "outputs": [],
   "source": []
  }
 ],
 "metadata": {
  "kernelspec": {
   "display_name": "Python 3 (ipykernel)",
   "language": "python",
   "name": "python3"
  },
  "language_info": {
   "codemirror_mode": {
    "name": "ipython",
    "version": 3
   },
   "file_extension": ".py",
   "mimetype": "text/x-python",
   "name": "python",
   "nbconvert_exporter": "python",
   "pygments_lexer": "ipython3",
   "version": "3.9.7"
  }
 },
 "nbformat": 4,
 "nbformat_minor": 5
}
